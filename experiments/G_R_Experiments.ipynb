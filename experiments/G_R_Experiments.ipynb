{
 "cells": [
  {
   "cell_type": "code",
   "execution_count": 4,
   "id": "60dd7c2c",
   "metadata": {},
   "outputs": [],
   "source": [
    "from lib import *\n",
    "\n",
    "def wj(w):\n",
    "    inv2 = inv(w, 2)\n",
    "    largest = -1000000\n",
    "    ret = -1\n",
    "    for j in range(len(w)):\n",
    "        if w[j] > largest and any([y == w[j] for (x,y) in inv2]):\n",
    "            largest = w[j]\n",
    "            ret = j\n",
    "    return ret"
   ]
  },
  {
   "cell_type": "markdown",
   "id": "8d0f8fa9",
   "metadata": {},
   "source": [
    "# Experiment 1"
   ]
  },
  {
   "cell_type": "code",
   "execution_count": 5,
   "id": "48f917fb",
   "metadata": {},
   "outputs": [
    {
     "name": "stdout",
     "output_type": "stream",
     "text": [
      "n = 6\n",
      "l = 20\n"
     ]
    },
    {
     "ename": "KeyboardInterrupt",
     "evalue": "",
     "output_type": "error",
     "traceback": [
      "\u001b[0;31m---------------------------------------------------------------------------\u001b[0m",
      "\u001b[0;31mKeyboardInterrupt\u001b[0m                         Traceback (most recent call last)",
      "Cell \u001b[0;32mIn[5], line 15\u001b[0m\n\u001b[1;32m     13\u001b[0m other_V \u001b[38;5;241m=\u001b[39m \u001b[38;5;28mset\u001b[39m([X \u001b[38;5;28;01mfor\u001b[39;00m X \u001b[38;5;129;01min\u001b[39;00m inv(w, k\u001b[38;5;241m-\u001b[39m\u001b[38;5;241m1\u001b[39m) \u001b[38;5;28;01mif\u001b[39;00m X \u001b[38;5;129;01mnot\u001b[39;00m \u001b[38;5;129;01min\u001b[39;00m V_1])\n\u001b[1;32m     14\u001b[0m \u001b[38;5;28;01mfor\u001b[39;00m R \u001b[38;5;129;01min\u001b[39;00m consistent_sets(w, k):\n\u001b[0;32m---> 15\u001b[0m     G_R \u001b[38;5;241m=\u001b[39m \u001b[43mG\u001b[49m\u001b[43m(\u001b[49m\u001b[43mw\u001b[49m\u001b[43m,\u001b[49m\u001b[43m \u001b[49m\u001b[43mk\u001b[49m\u001b[43m,\u001b[49m\u001b[43m \u001b[49m\u001b[43mR\u001b[49m\u001b[43m)\u001b[49m\n\u001b[1;32m     16\u001b[0m     valid \u001b[38;5;241m=\u001b[39m \u001b[38;5;28;01mTrue\u001b[39;00m\n\u001b[1;32m     17\u001b[0m     \u001b[38;5;28;01mfor\u001b[39;00m v \u001b[38;5;129;01min\u001b[39;00m other_V:\n",
      "File \u001b[0;32m~/Documents/Math/affine_higher_bruhat_order/lib.py:115\u001b[0m, in \u001b[0;36mG\u001b[0;34m(w, k, R)\u001b[0m\n\u001b[1;32m    113\u001b[0m             ret[P[i]][\u001b[38;5;124m'\u001b[39m\u001b[38;5;124mins\u001b[39m\u001b[38;5;124m'\u001b[39m]\u001b[38;5;241m.\u001b[39madd(P[i\u001b[38;5;241m+\u001b[39m\u001b[38;5;241m1\u001b[39m])\n\u001b[1;32m    114\u001b[0m             ret[P[i\u001b[38;5;241m+\u001b[39m\u001b[38;5;241m1\u001b[39m]][\u001b[38;5;124m'\u001b[39m\u001b[38;5;124mouts\u001b[39m\u001b[38;5;124m'\u001b[39m]\u001b[38;5;241m.\u001b[39madd(P[i])\n\u001b[0;32m--> 115\u001b[0m \u001b[38;5;28;01mfor\u001b[39;00m X \u001b[38;5;129;01min\u001b[39;00m \u001b[43mquasi_inv\u001b[49m\u001b[43m(\u001b[49m\u001b[43mw\u001b[49m\u001b[43m,\u001b[49m\u001b[43m \u001b[49m\u001b[43mk\u001b[49m\u001b[43m)\u001b[49m:\n\u001b[1;32m    116\u001b[0m     P \u001b[38;5;241m=\u001b[39m packet(X,n)\n\u001b[1;32m    117\u001b[0m     \u001b[38;5;28;01mfor\u001b[39;00m i \u001b[38;5;129;01min\u001b[39;00m \u001b[38;5;28mrange\u001b[39m(\u001b[38;5;28mlen\u001b[39m(P)\u001b[38;5;241m-\u001b[39m\u001b[38;5;241m1\u001b[39m):\n",
      "File \u001b[0;32m~/Documents/Math/affine_higher_bruhat_order/lib.py:64\u001b[0m, in \u001b[0;36mquasi_inv\u001b[0;34m(w, k)\u001b[0m\n\u001b[1;32m     62\u001b[0m ret \u001b[38;5;241m=\u001b[39m \u001b[38;5;28mset\u001b[39m()\n\u001b[1;32m     63\u001b[0m \u001b[38;5;28;01mfor\u001b[39;00m X \u001b[38;5;129;01min\u001b[39;00m itertools\u001b[38;5;241m.\u001b[39mcombinations(\u001b[38;5;28mrange\u001b[39m(\u001b[38;5;241m1\u001b[39m, n\u001b[38;5;241m+\u001b[39m\u001b[38;5;241m1\u001b[39m), k):\n\u001b[0;32m---> 64\u001b[0m     P_X \u001b[38;5;241m=\u001b[39m \u001b[38;5;28mset\u001b[39m(\u001b[43mpacket\u001b[49m\u001b[43m(\u001b[49m\u001b[43mX\u001b[49m\u001b[43m,\u001b[49m\u001b[43mn\u001b[49m\u001b[43m)\u001b[49m)\n\u001b[1;32m     65\u001b[0m     \u001b[38;5;28;01mif\u001b[39;00m \u001b[38;5;28mlen\u001b[39m(P_X \u001b[38;5;241m&\u001b[39m inv_k_1) \u001b[38;5;241m==\u001b[39m \u001b[38;5;241m2\u001b[39m \u001b[38;5;129;01mand\u001b[39;00m k\u001b[38;5;241m-\u001b[39m\u001b[38;5;241m1\u001b[39m \u001b[38;5;241m>\u001b[39m \u001b[38;5;241m2\u001b[39m:\n\u001b[1;32m     66\u001b[0m         ret\u001b[38;5;241m.\u001b[39madd(X)\n",
      "File \u001b[0;32m~/Documents/Math/affine_higher_bruhat_order/lib.py:137\u001b[0m, in \u001b[0;36mpacket\u001b[0;34m(x, n)\u001b[0m\n\u001b[1;32m    135\u001b[0m ret: \u001b[38;5;28mlist\u001b[39m[Inv] \u001b[38;5;241m=\u001b[39m []\n\u001b[1;32m    136\u001b[0m \u001b[38;5;28;01mfor\u001b[39;00m i \u001b[38;5;129;01min\u001b[39;00m \u001b[38;5;28mrange\u001b[39m(\u001b[38;5;28mlen\u001b[39m(x)):\n\u001b[0;32m--> 137\u001b[0m     ret\u001b[38;5;241m.\u001b[39mappend(\u001b[43mnormalize\u001b[49m\u001b[43m(\u001b[49m\u001b[38;5;28;43mtuple\u001b[39;49m\u001b[43m(\u001b[49m\u001b[43mx\u001b[49m\u001b[43m[\u001b[49m\u001b[43m:\u001b[49m\u001b[43mi\u001b[49m\u001b[43m]\u001b[49m\u001b[43m \u001b[49m\u001b[38;5;241;43m+\u001b[39;49m\u001b[43m \u001b[49m\u001b[43mx\u001b[49m\u001b[43m[\u001b[49m\u001b[43m(\u001b[49m\u001b[43mi\u001b[49m\u001b[38;5;241;43m+\u001b[39;49m\u001b[38;5;241;43m1\u001b[39;49m\u001b[43m)\u001b[49m\u001b[43m:\u001b[49m\u001b[43m]\u001b[49m\u001b[43m)\u001b[49m\u001b[43m,\u001b[49m\u001b[43m \u001b[49m\u001b[43mn\u001b[49m\u001b[43m)\u001b[49m)\n\u001b[1;32m    138\u001b[0m \u001b[38;5;28;01mreturn\u001b[39;00m ret\n",
      "File \u001b[0;32m~/Documents/Math/affine_higher_bruhat_order/lib.py:131\u001b[0m, in \u001b[0;36mnormalize\u001b[0;34m(x, n)\u001b[0m\n\u001b[1;32m    129\u001b[0m \u001b[38;5;28;01mdef\u001b[39;00m\u001b[38;5;250m \u001b[39m\u001b[38;5;21mnormalize\u001b[39m(x: Inv, n: \u001b[38;5;28mint\u001b[39m) \u001b[38;5;241m-\u001b[39m\u001b[38;5;241m>\u001b[39m Inv:\n\u001b[1;32m    130\u001b[0m     shift \u001b[38;5;241m=\u001b[39m \u001b[38;5;28mrepr\u001b[39m(x[\u001b[38;5;241m0\u001b[39m],n) \u001b[38;5;241m-\u001b[39m x[\u001b[38;5;241m0\u001b[39m]\n\u001b[0;32m--> 131\u001b[0m     \u001b[38;5;28;01mreturn\u001b[39;00m \u001b[38;5;28;43mtuple\u001b[39;49m\u001b[43m(\u001b[49m\u001b[43mi\u001b[49m\u001b[38;5;241;43m+\u001b[39;49m\u001b[43mshift\u001b[49m\u001b[43m \u001b[49m\u001b[38;5;28;43;01mfor\u001b[39;49;00m\u001b[43m \u001b[49m\u001b[43mi\u001b[49m\u001b[43m \u001b[49m\u001b[38;5;129;43;01min\u001b[39;49;00m\u001b[43m \u001b[49m\u001b[43mx\u001b[49m\u001b[43m)\u001b[49m\n",
      "File \u001b[0;32m~/Documents/Math/affine_higher_bruhat_order/lib.py:131\u001b[0m, in \u001b[0;36m<genexpr>\u001b[0;34m(.0)\u001b[0m\n\u001b[1;32m    129\u001b[0m \u001b[38;5;28;01mdef\u001b[39;00m\u001b[38;5;250m \u001b[39m\u001b[38;5;21mnormalize\u001b[39m(x: Inv, n: \u001b[38;5;28mint\u001b[39m) \u001b[38;5;241m-\u001b[39m\u001b[38;5;241m>\u001b[39m Inv:\n\u001b[1;32m    130\u001b[0m     shift \u001b[38;5;241m=\u001b[39m \u001b[38;5;28mrepr\u001b[39m(x[\u001b[38;5;241m0\u001b[39m],n) \u001b[38;5;241m-\u001b[39m x[\u001b[38;5;241m0\u001b[39m]\n\u001b[0;32m--> 131\u001b[0m     \u001b[38;5;28;01mreturn\u001b[39;00m \u001b[38;5;28mtuple\u001b[39m(i\u001b[38;5;241m+\u001b[39mshift \u001b[38;5;28;01mfor\u001b[39;00m i \u001b[38;5;129;01min\u001b[39;00m x)\n",
      "\u001b[0;31mKeyboardInterrupt\u001b[0m: "
     ]
    }
   ],
   "source": [
    "\n",
    "for n in range(6,7):\n",
    "    print(f\"n = {n}\")\n",
    "    for l in range(20,25):\n",
    "        print(f\"l = {l}\")\n",
    "        for w in permutations(n, l):\n",
    "            j_idx = wj(w)\n",
    "            w_j = w[j_idx]\n",
    "            w_j1 = w[j_idx+1] if j_idx < n-1 else w[0] + n\n",
    "            for k in range(3, n):\n",
    "                V_1 = set([\n",
    "                    X for X in inv(w, k-1) if normalize([X[-2], X[-1]], n) == normalize([w_j1, w_j], n)\n",
    "                ])\n",
    "                other_V = set([X for X in inv(w, k-1) if X not in V_1])\n",
    "                for R in consistent_sets(w, k):\n",
    "                    G_R = G(w, k, R)\n",
    "                    valid = True\n",
    "                    for v in other_V:\n",
    "                        if len(G_R[v][\"ins\"]&V_1) > 0 and len(G_R[v][\"outs\"]&V_1) > 0:\n",
    "                            valid = False\n",
    "                            break\n",
    "                    if not valid:\n",
    "                        print(f\"Counterexample w = {w}, j = {j_idx}, k = {k}, R = {R}\")"
   ]
  },
  {
   "cell_type": "markdown",
   "id": "6c27823e",
   "metadata": {},
   "source": [
    "# Experiment 2"
   ]
  },
  {
   "cell_type": "code",
   "execution_count": null,
   "id": "52319e61",
   "metadata": {},
   "outputs": [
    {
     "name": "stdout",
     "output_type": "stream",
     "text": [
      "n = 4\n",
      "l = 20\n",
      "l = 21\n",
      "l = 22\n",
      "l = 23\n",
      "l = 24\n",
      "n = 5\n",
      "l = 20\n",
      "l = 21\n",
      "l = 22\n",
      "l = 23\n",
      "l = 24\n",
      "n = 6\n",
      "l = 20\n"
     ]
    },
    {
     "name": "stderr",
     "output_type": "stream",
     "text": [
      "Exception ignored in: <bound method IPythonKernel._clean_thread_parent_frames of <ipykernel.ipkernel.IPythonKernel object at 0x105757410>>\n",
      "Traceback (most recent call last):\n",
      "  File \"/Users/hchau/miniconda3/lib/python3.12/site-packages/ipykernel/ipkernel.py\", line 775, in _clean_thread_parent_frames\n",
      "    def _clean_thread_parent_frames(\n",
      "\n",
      "KeyboardInterrupt: \n"
     ]
    },
    {
     "name": "stdout",
     "output_type": "stream",
     "text": [
      "l = 21\n",
      "l = 22\n"
     ]
    },
    {
     "ename": "KeyboardInterrupt",
     "evalue": "",
     "output_type": "error",
     "traceback": [
      "\u001b[0;31m---------------------------------------------------------------------------\u001b[0m",
      "\u001b[0;31mKeyboardInterrupt\u001b[0m                         Traceback (most recent call last)",
      "Cell \u001b[0;32mIn[9], line 11\u001b[0m\n\u001b[1;32m      8\u001b[0m w_j1 \u001b[38;5;241m=\u001b[39m w[j_idx\u001b[38;5;241m+\u001b[39m\u001b[38;5;241m1\u001b[39m] \u001b[38;5;28;01mif\u001b[39;00m j_idx \u001b[38;5;241m<\u001b[39m n\u001b[38;5;241m-\u001b[39m\u001b[38;5;241m1\u001b[39m \u001b[38;5;28;01melse\u001b[39;00m w[\u001b[38;5;241m0\u001b[39m] \u001b[38;5;241m+\u001b[39m n\n\u001b[1;32m      9\u001b[0m \u001b[38;5;28;01mfor\u001b[39;00m k \u001b[38;5;129;01min\u001b[39;00m \u001b[38;5;28mrange\u001b[39m(\u001b[38;5;241m3\u001b[39m, n):\n\u001b[1;32m     10\u001b[0m     V_1 \u001b[38;5;241m=\u001b[39m \u001b[38;5;28mset\u001b[39m([\n\u001b[0;32m---> 11\u001b[0m         X \u001b[38;5;28;01mfor\u001b[39;00m X \u001b[38;5;129;01min\u001b[39;00m \u001b[43minv\u001b[49m\u001b[43m(\u001b[49m\u001b[43mw\u001b[49m\u001b[43m,\u001b[49m\u001b[43m \u001b[49m\u001b[43mk\u001b[49m\u001b[38;5;241;43m-\u001b[39;49m\u001b[38;5;241;43m1\u001b[39;49m\u001b[43m)\u001b[49m \u001b[38;5;28;01mif\u001b[39;00m normalize([X[\u001b[38;5;241m-\u001b[39m\u001b[38;5;241m2\u001b[39m], X[\u001b[38;5;241m-\u001b[39m\u001b[38;5;241m1\u001b[39m]], n) \u001b[38;5;241m==\u001b[39m normalize([w_j1, w_j], n)\n\u001b[1;32m     12\u001b[0m     ])\n\u001b[1;32m     13\u001b[0m     L \u001b[38;5;241m=\u001b[39m \u001b[38;5;28mset\u001b[39m()\n\u001b[1;32m     14\u001b[0m     v \u001b[38;5;241m=\u001b[39m \u001b[38;5;28mtuple\u001b[39m(delete_congruence_classes(w,L))\n",
      "File \u001b[0;32m~/Documents/Math/affine_higher_bruhat_order/lib.py:55\u001b[0m, in \u001b[0;36minv\u001b[0;34m(w, k)\u001b[0m\n\u001b[1;32m     53\u001b[0m             idxs[i] \u001b[38;5;241m+\u001b[39m\u001b[38;5;241m=\u001b[39m n\n\u001b[1;32m     54\u001b[0m             vals[i] \u001b[38;5;241m+\u001b[39m\u001b[38;5;241m=\u001b[39m n\n\u001b[0;32m---> 55\u001b[0m     \u001b[38;5;28;01mfor\u001b[39;00m r \u001b[38;5;129;01min\u001b[39;00m inv_helper(idxs, vals):\n\u001b[1;32m     56\u001b[0m         ret\u001b[38;5;241m.\u001b[39madd(\u001b[38;5;28mtuple\u001b[39m(r))\n\u001b[1;32m     57\u001b[0m \u001b[38;5;28;01mreturn\u001b[39;00m ret\n",
      "\u001b[0;31mKeyboardInterrupt\u001b[0m: "
     ]
    }
   ],
   "source": [
    "\n",
    "def adjust(X, w, v):\n",
    "    # v = delete_congruence_classes(w, L) for some L and X is \n",
    "    pass\n",
    "\n",
    "\n",
    "for n in range(4,7):\n",
    "    print(f\"n = {n}\")\n",
    "    for l in range(20,25):\n",
    "        print(f\"l = {l}\")\n",
    "        for w in permutations(n, l):\n",
    "            j_idx = wj(w)\n",
    "            w_j = w[j_idx]\n",
    "            w_j1 = w[j_idx+1] if j_idx < n-1 else w[0] + n\n",
    "            for k in range(3, n):\n",
    "                V_1 = set([\n",
    "                    X for X in inv(w, k-1) if normalize([X[-2], X[-1]], n) == normalize([w_j1, w_j], n)\n",
    "                ])\n",
    "                L = set()\n",
    "                v = tuple(delete_congruence_classes(w,L))\n",
    "                for R in consistent_sets(w, k):\n",
    "                    RTL = set()\n",
    "                    for X in R:\n",
    "                        if all(repr(x,n) in L for x in X):\n",
    "                            RTL.add(adjust(X,w,v))\n",
    "                    # TODO: What should R' be in this case?\n",
    "                    R_ = inv(v,k)"
   ]
  }
 ],
 "metadata": {
  "kernelspec": {
   "display_name": "base",
   "language": "python",
   "name": "python3"
  },
  "language_info": {
   "codemirror_mode": {
    "name": "ipython",
    "version": 3
   },
   "file_extension": ".py",
   "mimetype": "text/x-python",
   "name": "python",
   "nbconvert_exporter": "python",
   "pygments_lexer": "ipython3",
   "version": "3.12.7"
  }
 },
 "nbformat": 4,
 "nbformat_minor": 5
}
