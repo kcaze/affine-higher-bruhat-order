{
 "cells": [
  {
   "cell_type": "code",
   "execution_count": null,
   "id": "48f917fb",
   "metadata": {},
   "outputs": [
    {
     "name": "stdout",
     "output_type": "stream",
     "text": [
      "n = 6\n",
      "l = 20\n",
      "l = 21\n",
      "l = 22\n",
      "l = 23\n",
      "l = 24\n"
     ]
    }
   ],
   "source": [
    "from lib import *\n",
    "\n",
    "def wj(w):\n",
    "    inv2 = inv(w, 2)\n",
    "    largest = -1000000\n",
    "    ret = -1\n",
    "    for j in range(len(w)):\n",
    "        if w[j] > largest and any([y == w[j] for (x,y) in inv2]):\n",
    "            largest = w[j]\n",
    "            ret = j\n",
    "    return ret\n",
    "\n",
    "for n in range(6,7):\n",
    "    print(f\"n = {n}\")\n",
    "    for l in range(20,25):\n",
    "        print(f\"l = {l}\")\n",
    "        for w in permutations(n, l):\n",
    "            j_idx = wj(w)\n",
    "            w_j = w[j_idx]\n",
    "            w_j1 = w[j_idx+1] if j_idx < n-1 else w[0] + n\n",
    "            for k in range(3, n):\n",
    "                V_1 = set([\n",
    "                    X for X in inv(w, k-1) if normalize([X[-2], X[-1]], n) == normalize([w_j1, w_j], n)\n",
    "                ])\n",
    "                if len(V_1) == 0:\n",
    "                    print(w,k)\n",
    "                other_V = set([X for X in inv(w, k-1) if X not in V_1])\n",
    "                for R in consistent_sets(w, k):\n",
    "                    G_R = G(w, k, R)\n",
    "                    valid = True\n",
    "                    for v in other_V:\n",
    "                        if len(G_R[v][\"ins\"]&V_1) > 0 and len(G_R[v][\"outs\"]&V_1) > 0:\n",
    "                            valid = False\n",
    "                            break\n",
    "                    if not valid:\n",
    "                        print(f\"Counterexample w = {w}, j = {j_idx}, k = {k}, R = {R}\")"
   ]
  }
 ],
 "metadata": {
  "kernelspec": {
   "display_name": "base",
   "language": "python",
   "name": "python3"
  },
  "language_info": {
   "codemirror_mode": {
    "name": "ipython",
    "version": 3
   },
   "file_extension": ".py",
   "mimetype": "text/x-python",
   "name": "python",
   "nbconvert_exporter": "python",
   "pygments_lexer": "ipython3",
   "version": "undefined.undefined.undefined"
  }
 },
 "nbformat": 4,
 "nbformat_minor": 5
}
