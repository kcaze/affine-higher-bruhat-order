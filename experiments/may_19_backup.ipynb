{
 "cells": [
  {
   "cell_type": "code",
   "execution_count": null,
   "id": "48f917fb",
   "metadata": {},
   "outputs": [
    {
     "name": "stdout",
     "output_type": "stream",
     "text": [
      "{(1, 17, 34, 35), (1, 12, 14, 15), (1, 17, 44, 45), (1, 8, 9, 10), (1, 13, 14, 15), (1, 7, 39, 40), (1, 12, 19, 20), (1, 17, 49, 50), (1, 12, 24, 25), (1, 28, 29, 30), (1, 12, 29, 30), (2, 23, 24, 25), (1, 38, 39, 40), (1, 12, 34, 35), (2, 3, 4, 5), (1, 7, 34, 35), (1, 2, 4, 5), (1, 7, 9, 10), (1, 12, 39, 40), (2, 13, 14, 15), (2, 33, 34, 35), (1, 3, 4, 5), (1, 17, 19, 20), (1, 2, 9, 10), (1, 18, 19, 20), (1, 12, 44, 45), (1, 7, 14, 15), (1, 7, 24, 25), (1, 23, 24, 25), (1, 17, 24, 25), (1, 7, 19, 20), (1, 17, 29, 30), (1, 2, 14, 15), (1, 7, 29, 30), (1, 2, 24, 25), (2, 18, 19, 20), (1, 33, 34, 35), (1, 48, 49, 50), (1, 2, 19, 20), (1, 2, 29, 30), (2, 28, 29, 30), (1, 43, 44, 45), (1, 17, 39, 40), (1, 2, 34, 35), (2, 8, 9, 10)}\n"
     ]
    }
   ],
   "source": [
    "from lib import *\n",
    "\n",
    "n = 5\n",
    "\n",
    "def wj(w):\n",
    "    inv2 = inv(w, 2)\n",
    "    largest = -1000000\n",
    "    ret = -1\n",
    "    for j in range(len(w)):\n",
    "        if w[j] > largest and any([y == w[j] for (x,y) in inv2]):\n",
    "            largest = w[j]\n",
    "            ret = j\n",
    "    return ret\n",
    "\n",
    "n = 5\n",
    "w = (20,19,18,-13,-29)\n",
    "print(inv(w,5))\n",
    "\n",
    "# for w in [(20,19,18,-13,-29)]:\n",
    "#     j_idx = wj(w)\n",
    "#     w_j = w[j_idx]\n",
    "#     w_j1 = w[j_idx+1] if j_idx < n-1 else w[0] + n\n",
    "#     for k in range(5, n+1):\n",
    "#         V_1 = set([\n",
    "#             X for X in inv(w, k-1) if normalize([X[-2], X[-1]], n) == normalize([w_j1, w_j], n)\n",
    "#         ])\n",
    "#         other_V = set([X for X in inv(w, k-1) if X not in V_1])\n",
    "#         for R in consistent_sets(w, k):\n",
    "#             G_R = G(w, k, R)\n",
    "#             valid = True\n",
    "#             for v in other_V:\n",
    "#                 if len(G_R[v][\"ins\"]&V_1) > 0 and len(G_R[v][\"outs\"]&V_1) > 0:\n",
    "#                     # print(w, k, v, G_R[v][\"ins\"]&V_1, G_R[v][\"outs\"]&V_1)\n",
    "#                     valid = False\n",
    "#                     break\n",
    "#             if not valid:\n",
    "#                 print(f\"Counterexample w = {w}, j = {j_idx}, k = {k}, R = {R}\")"
   ]
  }
 ],
 "metadata": {
  "kernelspec": {
   "display_name": "base",
   "language": "python",
   "name": "python3"
  },
  "language_info": {
   "codemirror_mode": {
    "name": "ipython",
    "version": 3
   },
   "file_extension": ".py",
   "mimetype": "text/x-python",
   "name": "python",
   "nbconvert_exporter": "python",
   "pygments_lexer": "ipython3",
   "version": "3.12.7"
  }
 },
 "nbformat": 4,
 "nbformat_minor": 5
}
