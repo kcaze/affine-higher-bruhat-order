{
 "cells": [
  {
   "cell_type": "code",
   "execution_count": 1,
   "id": "9bf546d9",
   "metadata": {},
   "outputs": [
    {
     "name": "stdout",
     "output_type": "stream",
     "text": [
      "[-5, 2, 5, 8]\n"
     ]
    }
   ],
   "source": [
    "from lib import *\n",
    "\n",
    "def BBalgorithm(P):\n",
    "    n = len(P)+1\n",
    "    w = list(range(1,n+1))\n",
    "    idxs = []\n",
    "    for i in range(n-2,-1,-1):\n",
    "        idxs += [i+2]*P[i]\n",
    "    for i in idxs:\n",
    "        w = E(w, i)\n",
    "    return w\n",
    "\n",
    "print(BBalgorithm([1,2,4]))"
   ]
  }
 ],
 "metadata": {
  "kernelspec": {
   "display_name": "base",
   "language": "python",
   "name": "python3"
  },
  "language_info": {
   "codemirror_mode": {
    "name": "ipython",
    "version": 3
   },
   "file_extension": ".py",
   "mimetype": "text/x-python",
   "name": "python",
   "nbconvert_exporter": "python",
   "pygments_lexer": "ipython3",
   "version": "3.12.7"
  }
 },
 "nbformat": 4,
 "nbformat_minor": 5
}
