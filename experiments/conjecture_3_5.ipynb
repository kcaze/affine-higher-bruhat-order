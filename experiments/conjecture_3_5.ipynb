{
 "cells": [
  {
   "cell_type": "code",
   "execution_count": 1,
   "id": "ebd9986f",
   "metadata": {},
   "outputs": [],
   "source": [
    "from lib import *\n",
    "from tqdm import tqdm"
   ]
  },
  {
   "cell_type": "code",
   "execution_count": 2,
   "id": "d22c23c9",
   "metadata": {},
   "outputs": [],
   "source": [
    "w = (15, 9, -8, 3, -4)\n",
    "k = 3\n",
    "all_R = list(consistent_sets(w, k))"
   ]
  },
  {
   "cell_type": "code",
   "execution_count": 3,
   "id": "fb69007a",
   "metadata": {},
   "outputs": [
    {
     "name": "stdout",
     "output_type": "stream",
     "text": [
      "j = 0, w_j = 15\n",
      "I = {1, 2, 3, 4}\n"
     ]
    }
   ],
   "source": [
    "def one_line_max(w):\n",
    "    return max(range(len(w)), key = lambda i: w[i])\n",
    "\n",
    "def I_set(w, w_j):\n",
    "    n = len(w)\n",
    "    invs = inv(w, 2)\n",
    "    return {repr(x[0], n) for x in invs if (x[1]%n) == (w_j%n)}\n",
    "\n",
    "print(f\"j = {one_line_max(w)}, w_j = {w[one_line_max(w)]}\")\n",
    "print(f\"I = {I_set(w, w[one_line_max(w)])}\")"
   ]
  },
  {
   "cell_type": "code",
   "execution_count": 4,
   "id": "caf29388",
   "metadata": {},
   "outputs": [
    {
     "name": "stdout",
     "output_type": "stream",
     "text": [
      "w' = (3, -3, 12, -2)\n"
     ]
    }
   ],
   "source": [
    "def truncate(w, w_j):\n",
    "    n = len(w)\n",
    "    I = I_set(w, w_j)\n",
    "    v = [x for x in w if x%n in I]\n",
    "    v = [x - x//n for x in v]\n",
    "    m = len(v)\n",
    "    desired_length = m*(m+1)//2\n",
    "    while sum(v) != desired_length:\n",
    "        if sum(v) < desired_length:\n",
    "            v = v[1:] + [v[0]+m]\n",
    "        else:\n",
    "            v = [v[-1]-m] + v[:-1] \n",
    "    return tuple(v)\n",
    "\n",
    "w_ = truncate(w, w[one_line_max(w)])\n",
    "print(f\"w' = {w_}\")"
   ]
  },
  {
   "cell_type": "code",
   "execution_count": 5,
   "id": "3602bf72",
   "metadata": {},
   "outputs": [
    {
     "name": "stdout",
     "output_type": "stream",
     "text": [
      "V1 = {(3, 4, 10), (2, 19, 25), (3, 9, 15), (1, 4, 10), (2, 9, 15), (2, 4, 10), (1, 9, 15), (2, 14, 20), (1, 14, 20)}\n"
     ]
    }
   ],
   "source": [
    "def V1(w, k):\n",
    "    j = one_line_max(w)\n",
    "    n = len(w)\n",
    "    x = w[j+1] if j+1 < n else w[0] + n\n",
    "    y = w[j]\n",
    "    return set([X for X in inv(w,k) if normalize([X[-2], X[-1]], n) == normalize([x, y], n)])\n",
    "\n",
    "print(f\"V1 = {V1(w, k)}\")"
   ]
  },
  {
   "cell_type": "code",
   "execution_count": 6,
   "id": "523a22da",
   "metadata": {},
   "outputs": [
    {
     "name": "stdout",
     "output_type": "stream",
     "text": [
      "V1' = {(1, 12), (3, 8), (2, 4), (3, 4), (2, 16), (1, 8), (1, 4), (2, 12), (2, 8)}\n"
     ]
    }
   ],
   "source": [
    "def truncate_set(Xs, n, I):\n",
    "    ret = set()\n",
    "    for X in Xs:\n",
    "        Y = [x for x in X if x%n in I]\n",
    "        Y = [x - x//n for x in Y]\n",
    "        ret.add(tuple(Y))\n",
    "    return ret\n",
    "\n",
    "print(f\"V1' = {truncate_set(V1(w, k), len(w), I_set(w, w[one_line_max(w)]))}\")"
   ]
  },
  {
   "cell_type": "code",
   "execution_count": null,
   "id": "01665e5d",
   "metadata": {},
   "outputs": [
    {
     "name": "stderr",
     "output_type": "stream",
     "text": [
      " 29%|██▊       | 6/21 [00:03<00:14,  1.04it/s]"
     ]
    }
   ],
   "source": [
    "n = 6\n",
    "found_counterexample = False\n",
    "for l in tqdm(list(range(15, 36))):\n",
    "    for w in permutations(n, l):\n",
    "        k = 3\n",
    "        n = len(w)\n",
    "\n",
    "        # ASSUMPTION: w_0 is the largest\n",
    "        if one_line_max(w) != 0:\n",
    "            continue\n",
    "\n",
    "        w_j = w[one_line_max(w)]\n",
    "        I = I_set(w, w_j)\n",
    "        all_R = list(consistent_sets(w, k+1))\n",
    "        w_ = truncate(w, w_j)\n",
    "        all_R_ = list(consistent_sets(w_, k))\n",
    "\n",
    "        for R in all_R:\n",
    "            R = all_R[0]\n",
    "            Rc = inv(w, k+1) - R\n",
    "            R_ = truncate_set(Rc & V1(w,k+1), n, I)\n",
    "\n",
    "            step_1_Xs = set(R_)\n",
    "\n",
    "            # Rule 2\n",
    "            step_2_Xs = set()\n",
    "            for X in inv(w_, k+1):\n",
    "                PX = packet(X, n-1)\n",
    "                if PX[0] not in R_ and PX[k-1] in R_:\n",
    "                    R_.add(PX[k])\n",
    "                    step_2_Xs.add(PX[k])\n",
    "\n",
    "            # Rule 3\n",
    "            step_3_Xs = set()\n",
    "            step_3_Ys = set()\n",
    "            for X in quasi_inv(w_, k+1):\n",
    "                kinv = inv(w_,k)\n",
    "                PX = packet(X, n-1)\n",
    "                PX_intersect= set([Y for Y in PX if Y in kinv])\n",
    "                if PX_intersect == set([PX[-2], PX[-1]]) and PX[-2] in R_ and PX[-1] not in R_:\n",
    "                    R_.add(PX[-1])\n",
    "                    step_3_Xs.add(PX[-1])\n",
    "                    step_3_Ys.add(X)\n",
    "            \n",
    "            tw2 = repr(w[1] - w[1] // n, n-1)\n",
    "            full_inv_Xs = set()\n",
    "            for U in inv(w_, k+1):\n",
    "                intersect1 = set(packet(U,n-1)) & (step_1_Xs)\n",
    "                intersect2 = set(packet(U,n-1)) & (step_2_Xs)\n",
    "                intersect3 = set(packet(U,n-1)) & (step_3_Xs)\n",
    "                if repr(U[-1],n-1) != repr(tw2, n-1) and len(intersect1) > 0 and len(intersect2) > 0 and len(intersect3) > 0:\n",
    "                    found_counterexample = True\n",
    "                    print(f\"Last case counterexample. w = {w}, u={w_}, U = {U}, intersect1={intersect1}, intersect3={intersect3}\")\n",
    "                    print(\"Step 1 added:\", step_1_Xs)\n",
    "                    print(\"Step 2 added:\", step_2_Xs)\n",
    "                    print(\"Step 3 added:\", step_3_Xs)\n",
    "                    break\n",
    "            \n",
    "            # if len(step_3_Xs & full_inv_Xs) > 0:\n",
    "            #     found_counterexample = True\n",
    "            #     print(f\"Part Counterexample w = {w}, u={w_}, l = {l} j = {one_line_max(w)}, k = {k}, R = {R}, R_ = {R_}\")\n",
    "            #     print(step_3_Xs)\n",
    "            #     print(step_3_Ys)\n",
    "            #     print(full_inv_Xs)\n",
    "            #     break\n",
    "            \n",
    "            if R_ not in all_R_ and one_line_max(w) == 0:\n",
    "                found_counterexample = True\n",
    "                print(f\"Counterexample w = {w}, l = {l} j = {one_line_max(w)}, k = {k}, R = {R}, R_ = {R_}\")\n",
    "                print(quasi_inv(w_, k+1))\n",
    "                break\n",
    "\n",
    "        if found_counterexample:\n",
    "            break\n",
    "    if found_counterexample:\n",
    "        break"
   ]
  },
  {
   "cell_type": "code",
   "execution_count": 36,
   "id": "8c75bfc6",
   "metadata": {},
   "outputs": [
    {
     "data": {
      "text/plain": [
       "True"
      ]
     },
     "execution_count": 36,
     "metadata": {},
     "output_type": "execute_result"
    }
   ],
   "source": [
    "w = (10, 8,-3, -6, 6)\n",
    "w_ = truncate(w, w[one_line_max(w)])\n",
    "Q = quasi_inv(w_, 4)\n",
    "I = inv(w_, 4)\n",
    "(4,6,9,11) in I\n",
    "# k = 3\n",
    "# n = len(w)\n",
    "# R = R = frozenset({(4, 6, 8, 10)})\n",
    "# Rc = inv(w, k+1) - R\n",
    "# R_ = truncate_set(Rc & V1(w,k+1), n, I)\n",
    "\n",
    "# print(f\"w' = {w_}\")\n",
    "# print(f\"V1 = {V1(w, k+1)}\")\n",
    "# print(f\"Inv_3(w) = {inv(w, k+1)}\")\n",
    "# print(f\"Rc = {Rc}\")\n",
    "# print(f\"R' = {R_}\")\n",
    "# print(f\"Inv_2(w') = {inv(w_, k)}\")\n",
    "# print(f\"Inv_3(w') = {inv(w_, k+1)}\")"
   ]
  },
  {
   "cell_type": "markdown",
   "id": "09996615",
   "metadata": {},
   "source": [
    "# Simplified R' Rule"
   ]
  },
  {
   "cell_type": "code",
   "execution_count": 37,
   "id": "4cb9c193",
   "metadata": {},
   "outputs": [
    {
     "name": "stderr",
     "output_type": "stream",
     "text": [
      "100%|██████████| 6/6 [01:00<00:00, 10.15s/it]\n"
     ]
    }
   ],
   "source": [
    "n = 7\n",
    "found_counterexample = False\n",
    "for l in tqdm(list(range(18, 24))):\n",
    "    for w in permutations(n, l):\n",
    "        k = 3\n",
    "        n = len(w)\n",
    "\n",
    "        # ASSUMPTION: w_0 is the largest\n",
    "        if one_line_max(w) != 0:\n",
    "            continue\n",
    "\n",
    "        w_j = w[one_line_max(w)]\n",
    "        I = I_set(w, w_j)\n",
    "        all_R = list(consistent_sets(w, k+1))\n",
    "        w_ = truncate(w, w_j)\n",
    "        all_R_ = list(consistent_sets(w_, k))\n",
    "\n",
    "        for R in all_R:\n",
    "            R = all_R[0]\n",
    "            Rc = inv(w, k+1) - R\n",
    "            S = V1(w,k+1)\n",
    "            for Y in inv(w,k+2) & V1(w,k+2):\n",
    "                for X in packet(Y,n)[:-1]:\n",
    "                    S.add(X)\n",
    "            # for Y in quasi_inv(w, k+2):\n",
    "            #     for X in set(packet(Y,n)) & inv(w,k+1):\n",
    "            #         if repr(X[-1],n) == repr(w[0], n):\n",
    "            #             S.add(X)\n",
    "\n",
    "            R_ = truncate_set(Rc & S, n, I)\n",
    "\n",
    "            # Rule 3\n",
    "            for X in quasi_inv(w_, k+1):\n",
    "                kinv = inv(w_,k)\n",
    "                PX = packet(X, n-1)\n",
    "                PX_intersect= set([Y for Y in PX if Y in kinv])\n",
    "                if PX_intersect == set([PX[-2], PX[-1]]) and PX[-2] in R_:\n",
    "                    R_.add(PX[-1])\n",
    "            if found_counterexample:\n",
    "                print(R_)\n",
    "                break\n",
    "            \n",
    "            if R_ not in all_R_ and one_line_max(w) == 0:\n",
    "                found_counterexample = True\n",
    "                print(f\"Counterexample w = {w}, l = {l} j = {one_line_max(w)}, k = {k}, R = {R}, R_ = {R_}\")\n",
    "                print(quasi_inv(w_, k+1))\n",
    "                break\n",
    "\n",
    "        if found_counterexample:\n",
    "            break\n",
    "    if found_counterexample:\n",
    "        break\n",
    "\n",
    "\n",
    "        break"
   ]
  },
  {
   "cell_type": "code",
   "execution_count": 25,
   "id": "06d70476",
   "metadata": {},
   "outputs": [
    {
     "name": "stdout",
     "output_type": "stream",
     "text": [
      "[(1, 4), (1, 8), (2, 3), (2, 4), (2, 5), (2, 8), (2, 12), (3, 4), (3, 8)]\n",
      "[(2, 3, 4), (2, 3, 8), (2, 5, 8), (2, 5, 12)]\n",
      "[]\n",
      "[(2, 3, 5, 8)]\n",
      "{(2, 5, 12)}\n"
     ]
    }
   ],
   "source": [
    "w = (8,1,-2,3)\n",
    "print(sorted(list(inv(w,2))))\n",
    "print(sorted(list(inv(w,3))))\n",
    "print(sorted(list(inv(w,4))))\n",
    "print(sorted(list(quasi_inv(w,4))))\n",
    "print(V1(w,3))"
   ]
  },
  {
   "cell_type": "code",
   "execution_count": 23,
   "id": "37d3d4f0",
   "metadata": {},
   "outputs": [
    {
     "name": "stdout",
     "output_type": "stream",
     "text": [
      "[(2, 3, 4)]\n"
     ]
    }
   ],
   "source": [
    "u = (-1, 3, 4)\n",
    "print(sorted(quasi_inv(u, 3)))"
   ]
  }
 ],
 "metadata": {
  "kernelspec": {
   "display_name": "base",
   "language": "python",
   "name": "python3"
  },
  "language_info": {
   "codemirror_mode": {
    "name": "ipython",
    "version": 3
   },
   "file_extension": ".py",
   "mimetype": "text/x-python",
   "name": "python",
   "nbconvert_exporter": "python",
   "pygments_lexer": "ipython3",
   "version": "3.12.7"
  }
 },
 "nbformat": 4,
 "nbformat_minor": 5
}
